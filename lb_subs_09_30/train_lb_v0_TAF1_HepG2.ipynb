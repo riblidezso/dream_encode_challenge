{
 "cells": [
  {
   "cell_type": "markdown",
   "metadata": {},
   "source": [
    "# Train TAF1 and make predictions for HepG2\n",
    "\n",
    "---\n",
    "\n",
    "Takes long time, and uses 50GB!\n",
    "\n",
    "----"
   ]
  },
  {
   "cell_type": "code",
   "execution_count": 1,
   "metadata": {
    "collapsed": true
   },
   "outputs": [],
   "source": [
    "import time\n",
    "import pandas as pd\n",
    "import numpy as np\n",
    "import subprocess\n",
    "from sklearn.metrics import roc_auc_score\n",
    "from sklearn.linear_model import SGDClassifier"
   ]
  },
  {
   "cell_type": "code",
   "execution_count": 2,
   "metadata": {
    "collapsed": false
   },
   "outputs": [],
   "source": [
    "TF='TAF1'\n",
    "\n",
    "TRAIN_CELL_TYPES=['GM12878','H1-hESC','HeLa-S3','K562','SK-N-SH']\n",
    "TEST_CELL_TYPE='HepG2'\n",
    "\n",
    "TRAIN_CHRS=[\"chr10\",\"chr11\",\"chr12\",\"chr13\",\"chr14\",\n",
    "            \"chr15\",\"chr16\",\"chr17\",\"chr18\",\"chr19\",\n",
    "            \"chr2\",\"chr20\",\"chr22\",\"chr3\",\"chr4\"]\n",
    "VALID_CHRS=[\"chr5\",\"chr6\",\"chr7\",\"chr9\",\"chrX\"]\n",
    "TEST_CHRS=[\"chr1\",\"chr21\",\"chr8\"] #order\n",
    "\n",
    "DATA_DIR='/mnt/vdisk/data/synapse/'"
   ]
  },
  {
   "cell_type": "markdown",
   "metadata": {},
   "source": [
    "### Load data"
   ]
  },
  {
   "cell_type": "code",
   "execution_count": 3,
   "metadata": {
    "collapsed": false
   },
   "outputs": [
    {
     "name": "stdout",
     "output_type": "stream",
     "text": [
      "Opening /mnt/vdisk/data/synapse/fold_cov_data/GM12878_dnase_fold_cov.hdf in read-only mode\n",
      "Opening /mnt/vdisk/data/synapse/fold_cov_data/H1-hESC_dnase_fold_cov.hdf in read-only mode\n",
      "Opening /mnt/vdisk/data/synapse/fold_cov_data/HeLa-S3_dnase_fold_cov.hdf in read-only mode\n",
      "Opening /mnt/vdisk/data/synapse/fold_cov_data/K562_dnase_fold_cov.hdf in read-only mode\n",
      "Opening /mnt/vdisk/data/synapse/fold_cov_data/SK-N-SH_dnase_fold_cov.hdf in read-only mode\n",
      "Opening /mnt/vdisk/data/synapse/fold_cov_data/HepG2_dnase_fold_cov.hdf in read-only mode\n",
      "Opening /mnt/vdisk/data/synapse/motif_data/TAF1_motif.hdf in read-only mode\n",
      "Opening /mnt/vdisk/data/synapse/extended_labels/TAF1_labels.hdf in read-only mode\n",
      "27.2252309322 s\n"
     ]
    }
   ],
   "source": [
    "start=time.time()\n",
    "\n",
    "# load fold coverage tables for all train cell lines\n",
    "fc_train=[pd.read_hdf(DATA_DIR+'fold_cov_data/'+cl+'_dnase_fold_cov.hdf',\n",
    "                      'dnase_fold_cov')\n",
    "          for cl in TRAIN_CELL_TYPES ]\n",
    "\n",
    "#load fold coverage table for the final submission cell line\n",
    "fc_test=pd.read_hdf(DATA_DIR+'fold_cov_data/'+TEST_CELL_TYPE+'_dnase_fold_cov.hdf',\n",
    "                     'dnase_fold_cov')\n",
    "\n",
    "#load motif table for the transciption factor\n",
    "motif=pd.read_hdf(DATA_DIR+'motif_data/'+TF+'_motif.hdf','motif')\n",
    "          \n",
    "#load labels for the transcription factor\n",
    "labels=pd.read_hdf(DATA_DIR+'extended_labels/'+TF+'_labels.hdf','labels')\n",
    "\n",
    "print (time.time()-start),'s'"
   ]
  },
  {
   "cell_type": "markdown",
   "metadata": {},
   "source": [
    "### Create training data\n",
    "- Selecting the training,testing, and validation chroms takes long time"
   ]
  },
  {
   "cell_type": "code",
   "execution_count": 4,
   "metadata": {
    "collapsed": false
   },
   "outputs": [
    {
     "name": "stdout",
     "output_type": "stream",
     "text": [
      "GM12878 103.727802992 s\n",
      "H1-hESC 95.8695471287 s\n",
      "HeLa-S3 96.44520998 s\n",
      "K562 99.7958650589 s\n",
      "SK-N-SH 98.3663249016 s\n",
      "584.202143908 s\n"
     ]
    }
   ],
   "source": [
    "start0=time.time()\n",
    "\n",
    "X_train,y_train=[],[]\n",
    "for i,cell_line_fc in enumerate(fc_train):\n",
    "    print TRAIN_CELL_TYPES[i],\n",
    "    start=time.time()\n",
    "    \n",
    "    #X\n",
    "    #select the chromosomes\n",
    "    cell_line_df=pd.concat([cell_line_fc.loc[TRAIN_CHRS],\n",
    "                            motif.loc[TRAIN_CHRS]],axis=1)\n",
    "    #rename dnase fc to uniform column name\n",
    "    cell_line_df.rename(columns={cell_line_df.columns[0]:'dnase_fc'},\n",
    "                        inplace=True)\n",
    "    #add df to a list to be concatenated later\n",
    "    X_train.append(cell_line_df)\n",
    "    \n",
    "    #y\n",
    "    y_train.append(labels.loc[TRAIN_CHRS,TRAIN_CELL_TYPES[i]].values)\n",
    "    \n",
    "    print (time.time()-start),'s'\n",
    "    \n",
    "#concatenate all cell line dfs\n",
    "X_train=pd.concat(X_train,ignore_index=True)\n",
    "y_train=np.concatenate(y_train)\n",
    "\n",
    "print (time.time()-start0),'s'"
   ]
  },
  {
   "cell_type": "code",
   "execution_count": 5,
   "metadata": {
    "collapsed": false
   },
   "outputs": [
    {
     "data": {
      "text/html": [
       "<div>\n",
       "<table border=\"1\" class=\"dataframe\">\n",
       "  <thead>\n",
       "    <tr style=\"text-align: right;\">\n",
       "      <th></th>\n",
       "      <th>dnase_fc</th>\n",
       "      <th>TAF1_motif_mean</th>\n",
       "      <th>TAF1_motif_max</th>\n",
       "      <th>TAF1_motif_q99</th>\n",
       "      <th>TAF1_motif_q95</th>\n",
       "      <th>TAF1_motif_q90</th>\n",
       "      <th>TAF1_motif_q75</th>\n",
       "      <th>TAF1_motif_q50</th>\n",
       "    </tr>\n",
       "  </thead>\n",
       "  <tbody>\n",
       "    <tr>\n",
       "      <th>0</th>\n",
       "      <td>0.0</td>\n",
       "      <td>20.018882</td>\n",
       "      <td>20.018882</td>\n",
       "      <td>20.018882</td>\n",
       "      <td>20.018882</td>\n",
       "      <td>20.018882</td>\n",
       "      <td>20.018882</td>\n",
       "      <td>20.018882</td>\n",
       "    </tr>\n",
       "    <tr>\n",
       "      <th>1</th>\n",
       "      <td>0.0</td>\n",
       "      <td>20.018882</td>\n",
       "      <td>20.018882</td>\n",
       "      <td>20.018882</td>\n",
       "      <td>20.018882</td>\n",
       "      <td>20.018882</td>\n",
       "      <td>20.018882</td>\n",
       "      <td>20.018882</td>\n",
       "    </tr>\n",
       "    <tr>\n",
       "      <th>2</th>\n",
       "      <td>0.0</td>\n",
       "      <td>20.018882</td>\n",
       "      <td>20.018882</td>\n",
       "      <td>20.018882</td>\n",
       "      <td>20.018882</td>\n",
       "      <td>20.018882</td>\n",
       "      <td>20.018882</td>\n",
       "      <td>20.018882</td>\n",
       "    </tr>\n",
       "    <tr>\n",
       "      <th>3</th>\n",
       "      <td>0.0</td>\n",
       "      <td>20.018882</td>\n",
       "      <td>20.018882</td>\n",
       "      <td>20.018882</td>\n",
       "      <td>20.018882</td>\n",
       "      <td>20.018882</td>\n",
       "      <td>20.018882</td>\n",
       "      <td>20.018882</td>\n",
       "    </tr>\n",
       "    <tr>\n",
       "      <th>4</th>\n",
       "      <td>0.0</td>\n",
       "      <td>20.018882</td>\n",
       "      <td>20.018882</td>\n",
       "      <td>20.018882</td>\n",
       "      <td>20.018882</td>\n",
       "      <td>20.018882</td>\n",
       "      <td>20.018882</td>\n",
       "      <td>20.018882</td>\n",
       "    </tr>\n",
       "  </tbody>\n",
       "</table>\n",
       "</div>"
      ],
      "text/plain": [
       "   dnase_fc  TAF1_motif_mean  TAF1_motif_max  TAF1_motif_q99  TAF1_motif_q95  \\\n",
       "0       0.0        20.018882       20.018882       20.018882       20.018882   \n",
       "1       0.0        20.018882       20.018882       20.018882       20.018882   \n",
       "2       0.0        20.018882       20.018882       20.018882       20.018882   \n",
       "3       0.0        20.018882       20.018882       20.018882       20.018882   \n",
       "4       0.0        20.018882       20.018882       20.018882       20.018882   \n",
       "\n",
       "   TAF1_motif_q90  TAF1_motif_q75  TAF1_motif_q50  \n",
       "0       20.018882       20.018882       20.018882  \n",
       "1       20.018882       20.018882       20.018882  \n",
       "2       20.018882       20.018882       20.018882  \n",
       "3       20.018882       20.018882       20.018882  \n",
       "4       20.018882       20.018882       20.018882  "
      ]
     },
     "execution_count": 5,
     "metadata": {},
     "output_type": "execute_result"
    }
   ],
   "source": [
    "X_train.head()"
   ]
  },
  {
   "cell_type": "markdown",
   "metadata": {},
   "source": [
    "### Create validation data"
   ]
  },
  {
   "cell_type": "code",
   "execution_count": 6,
   "metadata": {
    "collapsed": false
   },
   "outputs": [
    {
     "name": "stdout",
     "output_type": "stream",
     "text": [
      "GM12878 39.3330061436 s\n",
      "H1-hESC 34.5296738148 s\n",
      "HeLa-S3 39.3249709606 s\n",
      "K562 38.8769490719 s\n",
      "SK-N-SH 36.0859560966 s\n",
      "197.314650059 s\n"
     ]
    }
   ],
   "source": [
    "start0=time.time()\n",
    "\n",
    "X_valid,y_valid=[],[]\n",
    "for i,cell_line_fc in enumerate(fc_train):\n",
    "    print TRAIN_CELL_TYPES[i],\n",
    "    start=time.time()\n",
    "    \n",
    "    #select the chromosomes\n",
    "    cell_line_df=pd.concat([cell_line_fc.loc[VALID_CHRS],\n",
    "                            motif.loc[VALID_CHRS]],axis=1)\n",
    "    #rename dnase fc to uniform column name\n",
    "    cell_line_df.rename(columns={cell_line_df.columns[0]:'dnase_fc'},\n",
    "                        inplace=True)\n",
    "    #add df to a list to be concatenated later\n",
    "    X_valid.append(cell_line_df)\n",
    "    \n",
    "    #y\n",
    "    y_valid.append(labels.loc[VALID_CHRS,TRAIN_CELL_TYPES[i]].values)\n",
    "    \n",
    "    print (time.time()-start),'s'\n",
    "    \n",
    "#concatenate all cell line dfs\n",
    "X_valid=pd.concat(X_valid,ignore_index=True)\n",
    "y_valid=np.concatenate(y_valid)\n",
    "\n",
    "print (time.time()-start0),'s'"
   ]
  },
  {
   "cell_type": "code",
   "execution_count": 7,
   "metadata": {
    "collapsed": false
   },
   "outputs": [
    {
     "data": {
      "text/html": [
       "<div>\n",
       "<table border=\"1\" class=\"dataframe\">\n",
       "  <thead>\n",
       "    <tr style=\"text-align: right;\">\n",
       "      <th></th>\n",
       "      <th>dnase_fc</th>\n",
       "      <th>TAF1_motif_mean</th>\n",
       "      <th>TAF1_motif_max</th>\n",
       "      <th>TAF1_motif_q99</th>\n",
       "      <th>TAF1_motif_q95</th>\n",
       "      <th>TAF1_motif_q90</th>\n",
       "      <th>TAF1_motif_q75</th>\n",
       "      <th>TAF1_motif_q50</th>\n",
       "    </tr>\n",
       "  </thead>\n",
       "  <tbody>\n",
       "    <tr>\n",
       "      <th>0</th>\n",
       "      <td>0.0</td>\n",
       "      <td>20.018882</td>\n",
       "      <td>20.018882</td>\n",
       "      <td>20.018882</td>\n",
       "      <td>20.018882</td>\n",
       "      <td>20.018882</td>\n",
       "      <td>20.018882</td>\n",
       "      <td>20.018882</td>\n",
       "    </tr>\n",
       "    <tr>\n",
       "      <th>1</th>\n",
       "      <td>0.0</td>\n",
       "      <td>20.018882</td>\n",
       "      <td>20.018882</td>\n",
       "      <td>20.018882</td>\n",
       "      <td>20.018882</td>\n",
       "      <td>20.018882</td>\n",
       "      <td>20.018882</td>\n",
       "      <td>20.018882</td>\n",
       "    </tr>\n",
       "    <tr>\n",
       "      <th>2</th>\n",
       "      <td>0.0</td>\n",
       "      <td>20.018882</td>\n",
       "      <td>20.018882</td>\n",
       "      <td>20.018882</td>\n",
       "      <td>20.018882</td>\n",
       "      <td>20.018882</td>\n",
       "      <td>20.018882</td>\n",
       "      <td>20.018882</td>\n",
       "    </tr>\n",
       "    <tr>\n",
       "      <th>3</th>\n",
       "      <td>0.0</td>\n",
       "      <td>20.018882</td>\n",
       "      <td>20.018882</td>\n",
       "      <td>20.018882</td>\n",
       "      <td>20.018882</td>\n",
       "      <td>20.018882</td>\n",
       "      <td>20.018882</td>\n",
       "      <td>20.018882</td>\n",
       "    </tr>\n",
       "    <tr>\n",
       "      <th>4</th>\n",
       "      <td>0.0</td>\n",
       "      <td>20.018882</td>\n",
       "      <td>20.018882</td>\n",
       "      <td>20.018882</td>\n",
       "      <td>20.018882</td>\n",
       "      <td>20.018882</td>\n",
       "      <td>20.018882</td>\n",
       "      <td>20.018882</td>\n",
       "    </tr>\n",
       "  </tbody>\n",
       "</table>\n",
       "</div>"
      ],
      "text/plain": [
       "   dnase_fc  TAF1_motif_mean  TAF1_motif_max  TAF1_motif_q99  TAF1_motif_q95  \\\n",
       "0       0.0        20.018882       20.018882       20.018882       20.018882   \n",
       "1       0.0        20.018882       20.018882       20.018882       20.018882   \n",
       "2       0.0        20.018882       20.018882       20.018882       20.018882   \n",
       "3       0.0        20.018882       20.018882       20.018882       20.018882   \n",
       "4       0.0        20.018882       20.018882       20.018882       20.018882   \n",
       "\n",
       "   TAF1_motif_q90  TAF1_motif_q75  TAF1_motif_q50  \n",
       "0       20.018882       20.018882       20.018882  \n",
       "1       20.018882       20.018882       20.018882  \n",
       "2       20.018882       20.018882       20.018882  \n",
       "3       20.018882       20.018882       20.018882  \n",
       "4       20.018882       20.018882       20.018882  "
      ]
     },
     "execution_count": 7,
     "metadata": {},
     "output_type": "execute_result"
    }
   ],
   "source": [
    "X_valid.head()"
   ]
  },
  {
   "cell_type": "markdown",
   "metadata": {},
   "source": [
    "### Create test data"
   ]
  },
  {
   "cell_type": "code",
   "execution_count": 8,
   "metadata": {
    "collapsed": false
   },
   "outputs": [
    {
     "name": "stdout",
     "output_type": "stream",
     "text": [
      "17.0965480804 s\n"
     ]
    }
   ],
   "source": [
    "start0=time.time()\n",
    "    \n",
    "#select the chromosomes\n",
    "X_test=pd.concat([fc_test.loc[TEST_CHRS],\n",
    "                  motif.loc[TEST_CHRS]],axis=1)\n",
    "\n",
    "#rename dnase fc to uniform column name\n",
    "X_test.rename(columns={X_test.columns[0]:'dnase_fc'},inplace=True)\n",
    "\n",
    "#drop index\n",
    "X_test.reset_index(inplace=True,drop=True)\n",
    "\n",
    "print (time.time()-start0),'s'"
   ]
  },
  {
   "cell_type": "code",
   "execution_count": 9,
   "metadata": {
    "collapsed": false
   },
   "outputs": [
    {
     "data": {
      "text/html": [
       "<div>\n",
       "<table border=\"1\" class=\"dataframe\">\n",
       "  <thead>\n",
       "    <tr style=\"text-align: right;\">\n",
       "      <th></th>\n",
       "      <th>dnase_fc</th>\n",
       "      <th>TAF1_motif_mean</th>\n",
       "      <th>TAF1_motif_max</th>\n",
       "      <th>TAF1_motif_q99</th>\n",
       "      <th>TAF1_motif_q95</th>\n",
       "      <th>TAF1_motif_q90</th>\n",
       "      <th>TAF1_motif_q75</th>\n",
       "      <th>TAF1_motif_q50</th>\n",
       "    </tr>\n",
       "  </thead>\n",
       "  <tbody>\n",
       "    <tr>\n",
       "      <th>0</th>\n",
       "      <td>0.0</td>\n",
       "      <td>20.018882</td>\n",
       "      <td>20.018882</td>\n",
       "      <td>20.018882</td>\n",
       "      <td>20.018882</td>\n",
       "      <td>20.018882</td>\n",
       "      <td>20.018882</td>\n",
       "      <td>20.018882</td>\n",
       "    </tr>\n",
       "    <tr>\n",
       "      <th>1</th>\n",
       "      <td>0.0</td>\n",
       "      <td>20.018882</td>\n",
       "      <td>20.018882</td>\n",
       "      <td>20.018882</td>\n",
       "      <td>20.018882</td>\n",
       "      <td>20.018882</td>\n",
       "      <td>20.018882</td>\n",
       "      <td>20.018882</td>\n",
       "    </tr>\n",
       "    <tr>\n",
       "      <th>2</th>\n",
       "      <td>0.0</td>\n",
       "      <td>20.018882</td>\n",
       "      <td>20.018882</td>\n",
       "      <td>20.018882</td>\n",
       "      <td>20.018882</td>\n",
       "      <td>20.018882</td>\n",
       "      <td>20.018882</td>\n",
       "      <td>20.018882</td>\n",
       "    </tr>\n",
       "    <tr>\n",
       "      <th>3</th>\n",
       "      <td>0.0</td>\n",
       "      <td>20.018882</td>\n",
       "      <td>20.018882</td>\n",
       "      <td>20.018882</td>\n",
       "      <td>20.018882</td>\n",
       "      <td>20.018882</td>\n",
       "      <td>20.018882</td>\n",
       "      <td>20.018882</td>\n",
       "    </tr>\n",
       "    <tr>\n",
       "      <th>4</th>\n",
       "      <td>0.0</td>\n",
       "      <td>20.018882</td>\n",
       "      <td>20.018882</td>\n",
       "      <td>20.018882</td>\n",
       "      <td>20.018882</td>\n",
       "      <td>20.018882</td>\n",
       "      <td>20.018882</td>\n",
       "      <td>20.018882</td>\n",
       "    </tr>\n",
       "  </tbody>\n",
       "</table>\n",
       "</div>"
      ],
      "text/plain": [
       "   dnase_fc  TAF1_motif_mean  TAF1_motif_max  TAF1_motif_q99  TAF1_motif_q95  \\\n",
       "0       0.0        20.018882       20.018882       20.018882       20.018882   \n",
       "1       0.0        20.018882       20.018882       20.018882       20.018882   \n",
       "2       0.0        20.018882       20.018882       20.018882       20.018882   \n",
       "3       0.0        20.018882       20.018882       20.018882       20.018882   \n",
       "4       0.0        20.018882       20.018882       20.018882       20.018882   \n",
       "\n",
       "   TAF1_motif_q90  TAF1_motif_q75  TAF1_motif_q50  \n",
       "0       20.018882       20.018882       20.018882  \n",
       "1       20.018882       20.018882       20.018882  \n",
       "2       20.018882       20.018882       20.018882  \n",
       "3       20.018882       20.018882       20.018882  \n",
       "4       20.018882       20.018882       20.018882  "
      ]
     },
     "execution_count": 9,
     "metadata": {},
     "output_type": "execute_result"
    }
   ],
   "source": [
    "X_test.head()"
   ]
  },
  {
   "cell_type": "markdown",
   "metadata": {},
   "source": [
    "### Train SGD logistic reg\n",
    "- it doesn't seem to use the 12 cores for most of the time"
   ]
  },
  {
   "cell_type": "code",
   "execution_count": 15,
   "metadata": {
    "collapsed": false
   },
   "outputs": [
    {
     "name": "stdout",
     "output_type": "stream",
     "text": [
      "542.100310087 s\n"
     ]
    }
   ],
   "source": [
    "start=time.time()\n",
    "\n",
    "clf = SGDClassifier(loss='log', class_weight='balanced', n_jobs=12)\n",
    "clf.fit(X_train,y_train)\n",
    "\n",
    "print (time.time()-start),'s'"
   ]
  },
  {
   "cell_type": "markdown",
   "metadata": {},
   "source": [
    "### Evaluate"
   ]
  },
  {
   "cell_type": "code",
   "execution_count": 16,
   "metadata": {
    "collapsed": false
   },
   "outputs": [
    {
     "name": "stdout",
     "output_type": "stream",
     "text": [
      "auc: 0.908673791441\n",
      "41.521982193 s\n"
     ]
    }
   ],
   "source": [
    "start=time.time()\n",
    "\n",
    "print 'auc:',roc_auc_score(y_valid,clf.predict_proba(X_valid)[:,1])\n",
    "\n",
    "print (time.time()-start),'s'"
   ]
  },
  {
   "cell_type": "markdown",
   "metadata": {},
   "source": [
    "### Predict"
   ]
  },
  {
   "cell_type": "code",
   "execution_count": 17,
   "metadata": {
    "collapsed": false
   },
   "outputs": [
    {
     "name": "stdout",
     "output_type": "stream",
     "text": [
      "0.860918998718 s\n"
     ]
    }
   ],
   "source": [
    "start=time.time()\n",
    "\n",
    "y_test_pred=clf.predict_proba(X_test)[:,1]\n",
    "\n",
    "print (time.time()-start),'s'"
   ]
  },
  {
   "cell_type": "markdown",
   "metadata": {},
   "source": [
    "### Annotate predictions with the test regions\n",
    "- It has to be in the exact order of the test regions\n",
    "    - https://www.synapse.org/#!Synapse:syn6131484/wiki/402044\n",
    "- I missed the very frst line when creating the tables, I just add a 0 there"
   ]
  },
  {
   "cell_type": "markdown",
   "metadata": {},
   "source": [
    "### Join the results using shell commands\n",
    "- Not too elegant but faster"
   ]
  },
  {
   "cell_type": "code",
   "execution_count": 19,
   "metadata": {
    "collapsed": false
   },
   "outputs": [
    {
     "name": "stdout",
     "output_type": "stream",
     "text": [
      "21.9166607857 s\n"
     ]
    }
   ],
   "source": [
    "start=time.time()\n",
    "np.savetxt(TF+'_'+TEST_CELL_TYPE+'_test.txt',np.concatenate([[0],y_test_pred]))\n",
    "print (time.time()-start),'s'"
   ]
  },
  {
   "cell_type": "code",
   "execution_count": 21,
   "metadata": {
    "collapsed": false
   },
   "outputs": [
    {
     "name": "stdout",
     "output_type": "stream",
     "text": [
      " paste  <(zcat /mnt/vdisk/data/synapse//annotations/ladder_regions.blacklistfiltered.bed.gz ) TAF1_HepG2_test.txt  | gzip -c -1  > L.TAF1.HepG2.tab.gz\n",
      "6.8108549118 s\n"
     ]
    }
   ],
   "source": [
    "start=time.time()\n",
    "\n",
    "cmd = ' paste '\n",
    "cmd+= ' <(zcat '+DATA_DIR+'/annotations/ladder_regions.blacklistfiltered.bed.gz ) '\n",
    "cmd+= TF+'_'+TEST_CELL_TYPE +'_test.txt '\n",
    "cmd+= ' | gzip -c -1  > '+'L.'+TF+'.'+TEST_CELL_TYPE+'.tab.gz'\n",
    "print cmd\n",
    "subprocess.check_output(cmd,shell=True, executable='/bin/bash')\n",
    "\n",
    "print (time.time()-start),'s'"
   ]
  }
 ],
 "metadata": {
  "kernelspec": {
   "display_name": "Python 2",
   "language": "python",
   "name": "python2"
  },
  "language_info": {
   "codemirror_mode": {
    "name": "ipython",
    "version": 2
   },
   "file_extension": ".py",
   "mimetype": "text/x-python",
   "name": "python",
   "nbconvert_exporter": "python",
   "pygments_lexer": "ipython2",
   "version": "2.7.12"
  }
 },
 "nbformat": 4,
 "nbformat_minor": 0
}
