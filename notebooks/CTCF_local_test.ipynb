{
 "cells": [
  {
   "cell_type": "markdown",
   "metadata": {},
   "source": [
    "# Train and test CTCF binding\n",
    "\n",
    "---\n",
    "\n",
    "An example notebook using the prepared data. It only uses few training and validation chromosomes to be able to finish relatively fast.\n",
    "\n",
    "----"
   ]
  },
  {
   "cell_type": "code",
   "execution_count": 1,
   "metadata": {
    "collapsed": true
   },
   "outputs": [],
   "source": [
    "import time\n",
    "import pandas as pd\n",
    "import numpy as np\n",
    "import subprocess\n",
    "from sklearn.metrics import roc_auc_score\n",
    "from sklearn.linear_model import SGDClassifier"
   ]
  },
  {
   "cell_type": "markdown",
   "metadata": {},
   "source": [
    "### Define training and validation cell lines and chromosomes\n",
    "\n",
    "- I just randomly selected a training cell line for validation\n",
    "- I just randomly selected some chromosomes for training and validation"
   ]
  },
  {
   "cell_type": "code",
   "execution_count": 2,
   "metadata": {
    "collapsed": false
   },
   "outputs": [],
   "source": [
    "TF='CTCF'\n",
    "TRAIN_CELL_TYPES=['A549','H1-hESC','HeLa-S3','HepG2','IMR-90','K562']\n",
    "VALID_CELL_TYPE='MCF-7'\n",
    "\n",
    "#TRAIN_CHRS=[\"chr10\",\"chr11\",\"chr12\",\"chr13\",\"chr14\",\n",
    "#            \"chr15\",\"chr16\",\"chr17\",\"chr18\",\"chr19\",\n",
    "#            \"chr2\",\"chr20\",\"chr22\",\"chr3\",\"chr4\"]\n",
    "#VALID_CHRS=[\"chr5\",\"chr6\",\"chr7\",\"chr9\",\"chrX\"]\n",
    "#faster for testing\n",
    "TRAIN_CHRS=[\"chr10\",\"chr11\"]\n",
    "VALID_CHRS=[\"chr9\"]"
   ]
  },
  {
   "cell_type": "markdown",
   "metadata": {},
   "source": [
    "### Load the prepared data tables\n",
    "- motifs, dnase fold coverage, and the labels"
   ]
  },
  {
   "cell_type": "code",
   "execution_count": 3,
   "metadata": {
    "collapsed": false
   },
   "outputs": [
    {
     "name": "stdout",
     "output_type": "stream",
     "text": [
      "Opening /tables/dnase_fc/A549_dnase_fold_cov.hdf in read-only mode\n",
      "Opening /tables/dnase_fc/H1-hESC_dnase_fold_cov.hdf in read-only mode\n",
      "Opening /tables/dnase_fc/HeLa-S3_dnase_fold_cov.hdf in read-only mode\n",
      "Opening /tables/dnase_fc/HepG2_dnase_fold_cov.hdf in read-only mode\n",
      "Opening /tables/dnase_fc/IMR-90_dnase_fold_cov.hdf in read-only mode\n",
      "Opening /tables/dnase_fc/K562_dnase_fold_cov.hdf in read-only mode\n",
      "Opening /tables/dnase_fc/MCF-7_dnase_fold_cov.hdf in read-only mode\n",
      "Opening /tables/motif/CTCF_motif.hdf in read-only mode\n",
      "Opening /tables/labels/CTCF_labels.hdf in read-only mode\n",
      "133.76041007 s\n"
     ]
    }
   ],
   "source": [
    "start=time.time()\n",
    "\n",
    "# load fold coverage tables for all train cell lines\n",
    "fc_train=[pd.read_hdf(\n",
    "        '/tables/dnase_fc/'+cl+'_dnase_fold_cov.hdf',\n",
    "        'dnase_fold_cov')\n",
    "          for cl in TRAIN_CELL_TYPES ]\n",
    "\n",
    "#load fold coverage table for the final submission cell line\n",
    "fc_valid=pd.read_hdf(\n",
    "    '/tables/dnase_fc/'+VALID_CELL_TYPE+'_dnase_fold_cov.hdf',\n",
    "    'dnase_fold_cov')\n",
    "\n",
    "#load motif table for the transciption factor\n",
    "motif=pd.read_hdf('/tables/motif/'+TF+'_motif.hdf','motif')\n",
    "          \n",
    "#load labels for the transcription factor\n",
    "labels=pd.read_hdf('/tables/labels/'+TF+'_labels.hdf','labels')\n",
    "\n",
    "print (time.time()-start),'s'"
   ]
  },
  {
   "cell_type": "markdown",
   "metadata": {},
   "source": [
    "### Create training data\n",
    "\n",
    "- Select the training chromosomes\n",
    "- Stack different inputs into one input\n",
    "\n",
    "\n",
    "- As I remeber the slowest part is the indexing not the column stacking. I don't know why getting data using an index is that slow."
   ]
  },
  {
   "cell_type": "code",
   "execution_count": 4,
   "metadata": {
    "collapsed": false
   },
   "outputs": [
    {
     "name": "stdout",
     "output_type": "stream",
     "text": [
      "Adding: A549 Done: 15.2808690071 s\n",
      "Adding: H1-hESC Done: 18.9058570862 s\n",
      "Adding: HeLa-S3 Done: 87.4024350643 s\n",
      "Adding: HepG2 Done: 82.5313339233 s\n",
      "Adding: IMR-90 Done: 108.552444935 s\n",
      "Adding: K562 Done: 51.8257849216 s\n",
      "387.416275024 s\n"
     ]
    }
   ],
   "source": [
    "start0=time.time()\n",
    "\n",
    "X_train,y_train=[],[]\n",
    "for i,cl_fc in enumerate(fc_train):\n",
    "    print 'Adding:',TRAIN_CELL_TYPES[i],\n",
    "    start=time.time()\n",
    "    \n",
    "    #X\n",
    "    #select the training chromosomes\n",
    "    cl_df=pd.concat([cl_fc.loc[TRAIN_CHRS],\n",
    "                     motif.loc[TRAIN_CHRS]],axis=1)\n",
    "    #rename dnase fc to a uniform column name\n",
    "    cl_df.rename(columns={cl_df.columns[0]:\n",
    "                          'dnase_fc'},inplace=True)\n",
    "    #add df to a list to be concatenated later\n",
    "    X_train.append(cl_df)\n",
    "    \n",
    "    #y\n",
    "    y_train.append(labels.loc[\n",
    "            TRAIN_CHRS,TRAIN_CELL_TYPES[i]].values)\n",
    "    \n",
    "    print 'Done:', (time.time()-start),'s'\n",
    "    \n",
    "#concatenate all cell line dfs\n",
    "X_train=pd.concat(X_train,ignore_index=True)\n",
    "y_train=np.concatenate(y_train).astype(int)\n",
    "\n",
    "print (time.time()-start0),'s'"
   ]
  },
  {
   "cell_type": "code",
   "execution_count": 9,
   "metadata": {
    "collapsed": false
   },
   "outputs": [
    {
     "data": {
      "text/html": [
       "<div>\n",
       "<table border=\"1\" class=\"dataframe\">\n",
       "  <thead>\n",
       "    <tr style=\"text-align: right;\">\n",
       "      <th></th>\n",
       "      <th>dnase_fc</th>\n",
       "      <th>CTCF_motif_mean</th>\n",
       "      <th>CTCF_motif_max</th>\n",
       "      <th>CTCF_motif_q99</th>\n",
       "      <th>CTCF_motif_q95</th>\n",
       "      <th>CTCF_motif_q90</th>\n",
       "      <th>CTCF_motif_q75</th>\n",
       "      <th>CTCF_motif_q50</th>\n",
       "    </tr>\n",
       "  </thead>\n",
       "  <tbody>\n",
       "    <tr>\n",
       "      <th>9995</th>\n",
       "      <td>0.000000</td>\n",
       "      <td>6.099886</td>\n",
       "      <td>7.315357</td>\n",
       "      <td>7.259808</td>\n",
       "      <td>6.991489</td>\n",
       "      <td>6.836953</td>\n",
       "      <td>6.686817</td>\n",
       "      <td>6.452157</td>\n",
       "    </tr>\n",
       "    <tr>\n",
       "      <th>9996</th>\n",
       "      <td>0.000000</td>\n",
       "      <td>6.175891</td>\n",
       "      <td>7.315357</td>\n",
       "      <td>7.259808</td>\n",
       "      <td>6.984213</td>\n",
       "      <td>6.847057</td>\n",
       "      <td>6.715857</td>\n",
       "      <td>6.484656</td>\n",
       "    </tr>\n",
       "    <tr>\n",
       "      <th>9997</th>\n",
       "      <td>0.044593</td>\n",
       "      <td>6.048253</td>\n",
       "      <td>7.315357</td>\n",
       "      <td>7.275012</td>\n",
       "      <td>6.955609</td>\n",
       "      <td>6.836365</td>\n",
       "      <td>6.703036</td>\n",
       "      <td>6.438557</td>\n",
       "    </tr>\n",
       "    <tr>\n",
       "      <th>9998</th>\n",
       "      <td>0.267558</td>\n",
       "      <td>6.032314</td>\n",
       "      <td>7.315357</td>\n",
       "      <td>7.141457</td>\n",
       "      <td>6.964345</td>\n",
       "      <td>6.840757</td>\n",
       "      <td>6.705417</td>\n",
       "      <td>6.478757</td>\n",
       "    </tr>\n",
       "    <tr>\n",
       "      <th>9999</th>\n",
       "      <td>0.551590</td>\n",
       "      <td>6.134696</td>\n",
       "      <td>7.315357</td>\n",
       "      <td>7.244215</td>\n",
       "      <td>6.987797</td>\n",
       "      <td>6.860341</td>\n",
       "      <td>6.705417</td>\n",
       "      <td>6.456557</td>\n",
       "    </tr>\n",
       "  </tbody>\n",
       "</table>\n",
       "</div>"
      ],
      "text/plain": [
       "      dnase_fc  CTCF_motif_mean  CTCF_motif_max  CTCF_motif_q99  \\\n",
       "9995  0.000000         6.099886        7.315357        7.259808   \n",
       "9996  0.000000         6.175891        7.315357        7.259808   \n",
       "9997  0.044593         6.048253        7.315357        7.275012   \n",
       "9998  0.267558         6.032314        7.315357        7.141457   \n",
       "9999  0.551590         6.134696        7.315357        7.244215   \n",
       "\n",
       "      CTCF_motif_q95  CTCF_motif_q90  CTCF_motif_q75  CTCF_motif_q50  \n",
       "9995        6.991489        6.836953        6.686817        6.452157  \n",
       "9996        6.984213        6.847057        6.715857        6.484656  \n",
       "9997        6.955609        6.836365        6.703036        6.438557  \n",
       "9998        6.964345        6.840757        6.705417        6.478757  \n",
       "9999        6.987797        6.860341        6.705417        6.456557  "
      ]
     },
     "execution_count": 9,
     "metadata": {},
     "output_type": "execute_result"
    }
   ],
   "source": [
    "X_train.head(10000).tail()"
   ]
  },
  {
   "cell_type": "markdown",
   "metadata": {},
   "source": [
    "### Create validation data"
   ]
  },
  {
   "cell_type": "code",
   "execution_count": 6,
   "metadata": {
    "collapsed": false
   },
   "outputs": [
    {
     "name": "stdout",
     "output_type": "stream",
     "text": [
      "94.182956934 s\n"
     ]
    }
   ],
   "source": [
    "start0=time.time()\n",
    "    \n",
    "#X\n",
    "#select the chromosomes\n",
    "X_valid=pd.concat([fc_valid.loc[VALID_CHRS],\n",
    "                  motif.loc[VALID_CHRS]],axis=1)\n",
    "#rename dnase fc to uniform column name\n",
    "X_valid.rename(columns={X_valid.columns[0]:\n",
    "                        'dnase_fc'},inplace=True)\n",
    "#drop index\n",
    "X_valid.reset_index(inplace=True,drop=True)\n",
    "\n",
    "#y\n",
    "y_valid=labels.loc[VALID_CHRS,\n",
    "                   VALID_CELL_TYPE].values.astype(int)\n",
    "\n",
    "print (time.time()-start0),'s'"
   ]
  },
  {
   "cell_type": "code",
   "execution_count": 8,
   "metadata": {
    "collapsed": false
   },
   "outputs": [
    {
     "data": {
      "text/html": [
       "<div>\n",
       "<table border=\"1\" class=\"dataframe\">\n",
       "  <thead>\n",
       "    <tr style=\"text-align: right;\">\n",
       "      <th></th>\n",
       "      <th>dnase_fc</th>\n",
       "      <th>CTCF_motif_mean</th>\n",
       "      <th>CTCF_motif_max</th>\n",
       "      <th>CTCF_motif_q99</th>\n",
       "      <th>CTCF_motif_q95</th>\n",
       "      <th>CTCF_motif_q90</th>\n",
       "      <th>CTCF_motif_q75</th>\n",
       "      <th>CTCF_motif_q50</th>\n",
       "    </tr>\n",
       "  </thead>\n",
       "  <tbody>\n",
       "    <tr>\n",
       "      <th>9995</th>\n",
       "      <td>0.250047</td>\n",
       "      <td>6.129298</td>\n",
       "      <td>7.440556</td>\n",
       "      <td>7.361156</td>\n",
       "      <td>7.008417</td>\n",
       "      <td>6.906833</td>\n",
       "      <td>6.663777</td>\n",
       "      <td>6.460157</td>\n",
       "    </tr>\n",
       "    <tr>\n",
       "      <th>9996</th>\n",
       "      <td>0.208760</td>\n",
       "      <td>5.981045</td>\n",
       "      <td>7.440556</td>\n",
       "      <td>7.382198</td>\n",
       "      <td>7.024705</td>\n",
       "      <td>6.929213</td>\n",
       "      <td>6.663777</td>\n",
       "      <td>6.480457</td>\n",
       "    </tr>\n",
       "    <tr>\n",
       "      <th>9997</th>\n",
       "      <td>0.166605</td>\n",
       "      <td>5.791557</td>\n",
       "      <td>7.440556</td>\n",
       "      <td>7.339114</td>\n",
       "      <td>6.996809</td>\n",
       "      <td>6.864453</td>\n",
       "      <td>6.614897</td>\n",
       "      <td>6.427657</td>\n",
       "    </tr>\n",
       "    <tr>\n",
       "      <th>9998</th>\n",
       "      <td>0.124433</td>\n",
       "      <td>5.782106</td>\n",
       "      <td>7.360157</td>\n",
       "      <td>7.332407</td>\n",
       "      <td>6.928401</td>\n",
       "      <td>6.800025</td>\n",
       "      <td>6.610097</td>\n",
       "      <td>6.412156</td>\n",
       "    </tr>\n",
       "    <tr>\n",
       "      <th>9999</th>\n",
       "      <td>0.123490</td>\n",
       "      <td>5.948340</td>\n",
       "      <td>7.360157</td>\n",
       "      <td>7.332407</td>\n",
       "      <td>6.989661</td>\n",
       "      <td>6.906292</td>\n",
       "      <td>6.694957</td>\n",
       "      <td>6.433157</td>\n",
       "    </tr>\n",
       "  </tbody>\n",
       "</table>\n",
       "</div>"
      ],
      "text/plain": [
       "      dnase_fc  CTCF_motif_mean  CTCF_motif_max  CTCF_motif_q99  \\\n",
       "9995  0.250047         6.129298        7.440556        7.361156   \n",
       "9996  0.208760         5.981045        7.440556        7.382198   \n",
       "9997  0.166605         5.791557        7.440556        7.339114   \n",
       "9998  0.124433         5.782106        7.360157        7.332407   \n",
       "9999  0.123490         5.948340        7.360157        7.332407   \n",
       "\n",
       "      CTCF_motif_q95  CTCF_motif_q90  CTCF_motif_q75  CTCF_motif_q50  \n",
       "9995        7.008417        6.906833        6.663777        6.460157  \n",
       "9996        7.024705        6.929213        6.663777        6.480457  \n",
       "9997        6.996809        6.864453        6.614897        6.427657  \n",
       "9998        6.928401        6.800025        6.610097        6.412156  \n",
       "9999        6.989661        6.906292        6.694957        6.433157  "
      ]
     },
     "execution_count": 8,
     "metadata": {},
     "output_type": "execute_result"
    }
   ],
   "source": [
    "X_valid.head(10000).tail()"
   ]
  },
  {
   "cell_type": "markdown",
   "metadata": {},
   "source": [
    "### Train SGD logistic reg\n",
    "- Actually it doesn't seem to use the 12 cores for most of the time"
   ]
  },
  {
   "cell_type": "code",
   "execution_count": 16,
   "metadata": {
    "collapsed": false
   },
   "outputs": [
    {
     "name": "stdout",
     "output_type": "stream",
     "text": [
      "117.571002007 s\n"
     ]
    }
   ],
   "source": [
    "start=time.time()\n",
    "\n",
    "clf = SGDClassifier(loss='log', class_weight='balanced', n_jobs=12)\n",
    "clf.fit(X_train,y_train)\n",
    "\n",
    "print (time.time()-start),'s'"
   ]
  },
  {
   "cell_type": "markdown",
   "metadata": {},
   "source": [
    "### Evaluate"
   ]
  },
  {
   "cell_type": "code",
   "execution_count": 17,
   "metadata": {
    "collapsed": false
   },
   "outputs": [
    {
     "name": "stdout",
     "output_type": "stream",
     "text": [
      "auc: 0.971938896536\n",
      "1.24858117104 s\n"
     ]
    }
   ],
   "source": [
    "start=time.time()\n",
    "\n",
    "print 'auc:',roc_auc_score(y_valid,clf.predict_proba(X_valid)[:,1])\n",
    "\n",
    "print (time.time()-start),'s'"
   ]
  }
 ],
 "metadata": {
  "kernelspec": {
   "display_name": "Python 2",
   "language": "python",
   "name": "python2"
  },
  "language_info": {
   "codemirror_mode": {
    "name": "ipython",
    "version": 2
   },
   "file_extension": ".py",
   "mimetype": "text/x-python",
   "name": "python",
   "nbconvert_exporter": "python",
   "pygments_lexer": "ipython2",
   "version": "2.7.12"
  }
 },
 "nbformat": 4,
 "nbformat_minor": 0
}
