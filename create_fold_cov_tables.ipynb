{
 "cells": [
  {
   "cell_type": "markdown",
   "metadata": {},
   "source": [
    "# Load and save dnase fold coverage data\n",
    "\n",
    "----"
   ]
  },
  {
   "cell_type": "code",
   "execution_count": 3,
   "metadata": {
    "collapsed": false
   },
   "outputs": [],
   "source": [
    "import os, sys,time\n",
    "from multiprocessing import Pool\n",
    "from multiprocessing import sharedctypes\n",
    "from numpy import ctypeslib\n",
    "from functools import partial\n",
    "\n",
    "import numpy as np\n",
    "import pandas as pd\n",
    "\n",
    "from scipy.stats.mstats import mquantiles\n",
    "\n",
    "import pysam\n",
    "import pyBigWig\n",
    "from Bio import SeqIO\n",
    "\n",
    "from pyDNAbinding.binding_model import DNASequence, PWMBindingModel, DNABindingModels, load_binding_models"
   ]
  },
  {
   "cell_type": "code",
   "execution_count": 9,
   "metadata": {
    "collapsed": false
   },
   "outputs": [],
   "source": [
    "#paths\n",
    "ANNOT_DIR=\"/mnt/vdisk/data/synapse/encodeChallenge_Data/860/10214860/annotations/\"\n",
    "TRAIN_TSV_BASE_DIR = \"/mnt/vdisk/data/synapse/encodeChallenge_Data/422/10035422/ChIPseq/labels/\"\n",
    "DNASE_IDR_PEAKS_BASE_DIR = \"/mnt/vdisk/data/synapse/encodeChallenge_Data/251/10253251/essential_training_data/DNASE/peaks/conservative/\"\n",
    "DNASE_FOLD_COV_DIR = \"/mnt/vdisk/data/synapse/encodeChallenge_Data/251/10253251/essential_training_data/DNASE/fold_coverage_wiggles/\"\n",
    "REF_GENOME=\"hg19.genome.fa\"\n",
    "\n",
    "#get all cell line names (imr90?)\n",
    "ALL_CELL_LINES=[x.split('.')[1] for x in os.listdir(DNASE_FOLD_COV_DIR)]\n",
    "\n",
    "#do not load all for testing\n",
    "MAX_N_ROWS=int(1e5)"
   ]
  },
  {
   "cell_type": "markdown",
   "metadata": {},
   "source": [
    "### Read the test regions"
   ]
  },
  {
   "cell_type": "code",
   "execution_count": 10,
   "metadata": {
    "collapsed": false
   },
   "outputs": [],
   "source": [
    "idx=pd.read_csv(\n",
    "    ANNOT_DIR+'test_regions.blacklistfiltered.bed.gz',\n",
    "    index_col=(0,1,2),\n",
    "    sep='\\t',nrows=MAX_N_ROWS).index"
   ]
  },
  {
   "cell_type": "markdown",
   "metadata": {},
   "source": [
    "### The DNASE raw fold coverage data\n",
    "\n",
    "- parellization made it 3x faster\n",
    "    - bigwigs cannot be serialized, so i just create and close them in every process which creates an overhead.\n",
    "    - probably could be faster, but there are slower stuff so it doesnt matter that much\n",
    "    \n",
    "- if we want to load it for many cell lines it is slower"
   ]
  },
  {
   "cell_type": "code",
   "execution_count": 15,
   "metadata": {
    "collapsed": false
   },
   "outputs": [
    {
     "name": "stdout",
     "output_type": "stream",
     "text": [
      "Panc1 MCF-7 HepG2 A549 HCT116 GM12878 H1-hESC induced_pluripotent_stem_cell PC-3 IMR-90 SK-N-SH liver HeLa-S3 IMR90 K562\n"
     ]
    }
   ],
   "source": [
    "#global shared result array... is there a better way?\n",
    "fold_cov = sharedctypes.RawArray('d', len(idx))\n",
    "\n",
    "def load_dnase_fold_cov(cell_line,idx,\n",
    "                        n_proc=12,\n",
    "                        dnase_fold_cov_dir=DNASE_FOLD_COV_DIR ):\n",
    "    \"\"\"Load the raw fold coverage for a t factor and cell line.\"\"\"\n",
    "    dnase_fold_cov_fname = dnase_fold_cov_dir + 'DNASE.'+cell_line+'.fc.signal.bigwig'\n",
    "    \n",
    "    #partially apply the scorer function\n",
    "    part_get_dnase_fold_cov_from_region=partial(get_dnase_fold_cov_from_region,\n",
    "                                                idx=idx,fn=dnase_fold_cov_fname)\n",
    "    #parallel execute it\n",
    "    Pool(n_proc).map(part_get_dnase_fold_cov_from_region,xrange(len(idx)))\n",
    "\n",
    "    #return a dataframe\n",
    "    return pd.DataFrame({cell_line+'_dnase_fc' : fold_cov},index=idx)\n",
    "\n",
    "def get_dnase_fold_cov_from_region(i,idx,fn=None):\n",
    "    \"\"\"Get raw dnase fold coverage for a region.\"\"\"\n",
    "    contig,start,stop=idx[i]\n",
    "    bigwig_f=pyBigWig.open(fn)\n",
    "    fold_cov[i]=bigwig_f.stats(contig,start,stop)[0]\n",
    "    bigwig_f.close()\n",
    "    return\n",
    "    \n",
    "for cl in ALL_CELL_LINES:  \n",
    "    print cl,\n",
    "    dnase_fc_df=load_dnase_fold_cov(cl,idx)\n",
    "    dnase_fc_df.to_csv('fold_cov_data/'+cl+'_dnase_fold_cov.csv')"
   ]
  }
 ],
 "metadata": {
  "kernelspec": {
   "display_name": "Python 2",
   "language": "python",
   "name": "python2"
  },
  "language_info": {
   "codemirror_mode": {
    "name": "ipython",
    "version": 2
   },
   "file_extension": ".py",
   "mimetype": "text/x-python",
   "name": "python",
   "nbconvert_exporter": "python",
   "pygments_lexer": "ipython2",
   "version": "2.7.12"
  }
 },
 "nbformat": 4,
 "nbformat_minor": 0
}
