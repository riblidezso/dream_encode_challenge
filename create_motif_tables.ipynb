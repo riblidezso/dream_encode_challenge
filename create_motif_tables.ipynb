{
 "cells": [
  {
   "cell_type": "markdown",
   "metadata": {},
   "source": [
    "# Load and save motif data\n",
    "\n",
    "----"
   ]
  },
  {
   "cell_type": "code",
   "execution_count": 1,
   "metadata": {
    "collapsed": false
   },
   "outputs": [],
   "source": [
    "import os, sys,time\n",
    "from multiprocessing import Pool\n",
    "from multiprocessing import sharedctypes\n",
    "from numpy import ctypeslib\n",
    "from functools import partial\n",
    "\n",
    "import numpy as np\n",
    "import pandas as pd\n",
    "\n",
    "from scipy.stats.mstats import mquantiles\n",
    "\n",
    "import pysam\n",
    "import pyBigWig\n",
    "from Bio import SeqIO\n",
    "\n",
    "from pyDNAbinding.binding_model import DNASequence, PWMBindingModel, DNABindingModels, load_binding_models"
   ]
  },
  {
   "cell_type": "code",
   "execution_count": 2,
   "metadata": {
    "collapsed": false
   },
   "outputs": [],
   "source": [
    "#paths\n",
    "ANNOT_DIR=\"/mnt/vdisk/data/synapse/encodeChallenge_Data/860/10214860/annotations/\"\n",
    "TRAIN_TSV_BASE_DIR = \"/mnt/vdisk/data/synapse/encodeChallenge_Data/422/10035422/ChIPseq/labels/\"\n",
    "DNASE_IDR_PEAKS_BASE_DIR = \"/mnt/vdisk/data/synapse/encodeChallenge_Data/251/10253251/essential_training_data/DNASE/peaks/conservative/\"\n",
    "DNASE_FOLD_COV_DIR = \"/mnt/vdisk/data/synapse/encodeChallenge_Data/251/10253251/essential_training_data/DNASE/fold_coverage_wiggles/\"\n",
    "REF_GENOME=\"hg19.genome.fa\"\n",
    "\n",
    "#get all cell line names (imr90?)\n",
    "ALL_CELL_LINES=[x.split('.')[1] for x in os.listdir(DNASE_FOLD_COV_DIR)]\n",
    "\n",
    "#do not load all for testing\n",
    "#MAX_N_ROWS=int(1e4)"
   ]
  },
  {
   "cell_type": "code",
   "execution_count": 3,
   "metadata": {
    "collapsed": false
   },
   "outputs": [],
   "source": [
    "idx=pd.read_csv(\n",
    "    ANNOT_DIR+'test_regions.blacklistfiltered.bed.gz',\n",
    "    index_col=(0,1,2),\n",
    "    sep='\\t').index"
   ]
  },
  {
   "cell_type": "code",
   "execution_count": 4,
   "metadata": {
    "collapsed": false
   },
   "outputs": [
    {
     "name": "stdout",
     "output_type": "stream",
     "text": [
      "60519746\n"
     ]
    }
   ],
   "source": [
    "print len(idx)"
   ]
  },
  {
   "cell_type": "markdown",
   "metadata": {},
   "source": [
    "### The DNASE raw fold coverage data\n",
    "\n",
    "- parellization made it 3x faster\n",
    "    - bigwigs cannot be serialized, so i just create and close them in every process which creates an overhead.\n",
    "    - probably could be faster, but there are slower stuff so it doesnt matter that much\n",
    "    \n",
    "- if we want to load it for many cell lines it is slower"
   ]
  },
  {
   "cell_type": "markdown",
   "metadata": {},
   "source": [
    "### Load the motif scores\n",
    "\n",
    "- genome need to be read only once its like 2 minutes, i do it before once\n",
    "\n",
    "- parallelization made ~10x faster, still long time\n",
    "    - genome gets copied into every process but still faster than pysam which is disk reading based"
   ]
  },
  {
   "cell_type": "code",
   "execution_count": 5,
   "metadata": {
    "collapsed": false
   },
   "outputs": [
    {
     "name": "stdout",
     "output_type": "stream",
     "text": [
      "47 s\n"
     ]
    }
   ],
   "source": [
    "start=time.time()\n",
    "with open(REF_GENOME, \"rU\") as h:\n",
    "    ref_genome=SeqIO.to_dict(SeqIO.parse(h, \"fasta\"))\n",
    "print int(time.time()-start),'s'"
   ]
  },
  {
   "cell_type": "code",
   "execution_count": 6,
   "metadata": {
    "collapsed": false
   },
   "outputs": [],
   "source": [
    "#the aggregate colnames\n",
    "aggregate_region_scores_labels = [\"motif_mean\", \"motif_max\", \"motif_q99\",\n",
    "                                  \"motif_q95\", \"motif_q90\", \"motif_q75\", \"motif_q50\"]\n",
    "def aggregate_region_scores(scores,\n",
    "                            quantile_probs = [0.99, 0.95, 0.90, 0.75, 0.50]):\n",
    "    \"\"\"Return aggregate scores of all scores from a region.\"\"\"\n",
    "    rv = [scores.mean()/len(scores), scores.max()]\n",
    "    rv.extend(mquantiles(scores, prob=quantile_probs))\n",
    "    return rv\n",
    "\n",
    "#global shared result array... is there a better way?\n",
    "shape=(len(idx),len(aggregate_region_scores_labels))\n",
    "motif_scores = sharedctypes.RawArray('d', shape[0]*shape[1])\n",
    "\n",
    "def load_motif_scores(t_factor,\n",
    "                      n_proc=12):\n",
    "    \"\"\"Load aggregate motif scores for a t_factor for intervals in the index.\"\"\"\n",
    "    #load binding models\n",
    "    binding_models = load_binding_models(\"models.yaml\")\n",
    "    model = binding_models.get_from_tfname(t_factor)\n",
    "    \n",
    "    #partially apply the scorer function\n",
    "    part_get_motif_scores_from_region=partial(\n",
    "        get_motif_scores_from_region,model=model)\n",
    "    \n",
    "    #parrallel execute it\n",
    "    Pool(n_proc).map(part_get_motif_scores_from_region,xrange(len(idx)))        \n",
    "    \n",
    "    #shared array to numpy array\n",
    "    ms=ctypeslib.as_array(motif_scores).reshape(shape)\n",
    "    \n",
    "    colnames=[t_factor+'_'+x for x in aggregate_region_scores_labels]\n",
    "    return pd.DataFrame(ms,index=idx,columns=colnames)\n",
    "    \n",
    "def get_motif_scores_from_region(i,model):\n",
    "    \"\"\"Get motif scores from a region in index.\"\"\"\n",
    "    contig, start, stop = idx[i]\n",
    "    #load seq from genome\n",
    "    seq=str(ref_genome[contig][start:stop].seq).upper()\n",
    "    #pysam is a bit slower\n",
    "    #genome = pysam.FastaFile(REF_GENOME)\n",
    "    #seq=genome.fetch(contig, start, stop+1).upper()\n",
    "    \n",
    "    #make sharred array numpy array\n",
    "    ms = ctypeslib.as_array(motif_scores).reshape(shape)\n",
    "    \n",
    "    #get aggregate motif scores\n",
    "    ms[i] = aggregate_region_scores(\n",
    "        DNASequence(seq).score_binding_sites(model[0], 'MAX'))\n",
    "    \n",
    "    return"
   ]
  },
  {
   "cell_type": "code",
   "execution_count": null,
   "metadata": {
    "collapsed": false
   },
   "outputs": [
    {
     "name": "stdout",
     "output_type": "stream",
     "text": [
      "ATF2"
     ]
    }
   ],
   "source": [
    "#transcription factors for the final submissions\n",
    "ALL_TF=['ATF2','CTCF','E2F1','EGR1','FOXA1','FOXA2','HNF4A','JUND','MAX','NANOG','REST','TAF1']\n",
    "\n",
    "for tf in ALL_TF:\n",
    "    print tf,\n",
    "    motif_df=load_motif_scores(tf)\n",
    "    motif_df.to_csv('motif_data/'+tf+'_motif.csv')"
   ]
  },
  {
   "cell_type": "code",
   "execution_count": null,
   "metadata": {
    "collapsed": true
   },
   "outputs": [],
   "source": []
  }
 ],
 "metadata": {
  "kernelspec": {
   "display_name": "Python 2",
   "language": "python",
   "name": "python2"
  },
  "language_info": {
   "codemirror_mode": {
    "name": "ipython",
    "version": 2
   },
   "file_extension": ".py",
   "mimetype": "text/x-python",
   "name": "python",
   "nbconvert_exporter": "python",
   "pygments_lexer": "ipython2",
   "version": "2.7.12"
  }
 },
 "nbformat": 4,
 "nbformat_minor": 0
}
