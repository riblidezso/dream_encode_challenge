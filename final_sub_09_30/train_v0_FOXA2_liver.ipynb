{
 "cells": [
  {
   "cell_type": "markdown",
   "metadata": {},
   "source": [
    "# Train FOXA2 and make predictions for liver\n",
    "\n",
    "---\n",
    "\n",
    "Takes something like 10-20 minutes, and uses 50GB!\n",
    "\n",
    "----"
   ]
  },
  {
   "cell_type": "code",
   "execution_count": 1,
   "metadata": {
    "collapsed": true
   },
   "outputs": [],
   "source": [
    "import time\n",
    "import pandas as pd\n",
    "import numpy as np\n",
    "import subprocess\n",
    "from sklearn.metrics import roc_auc_score\n",
    "from sklearn.linear_model import SGDClassifier"
   ]
  },
  {
   "cell_type": "code",
   "execution_count": 2,
   "metadata": {
    "collapsed": true
   },
   "outputs": [],
   "source": [
    "TF='FOXA2'\n",
    "TRAIN_CELL_TYPES=['HepG2']\n",
    "TEST_CELL_TYPE='liver'\n",
    "\n",
    "DATA_DIR='/mnt/vdisk/data/synapse/'"
   ]
  },
  {
   "cell_type": "markdown",
   "metadata": {},
   "source": [
    "### Load data"
   ]
  },
  {
   "cell_type": "code",
   "execution_count": 3,
   "metadata": {
    "collapsed": false
   },
   "outputs": [
    {
     "name": "stdout",
     "output_type": "stream",
     "text": [
      "Opening /mnt/vdisk/data/synapse/fold_cov_data/HepG2_dnase_fold_cov.hdf in read-only mode\n",
      "Opening /mnt/vdisk/data/synapse/fold_cov_data/liver_dnase_fold_cov.hdf in read-only mode\n",
      "Opening /mnt/vdisk/data/synapse/motif_data/FOXA2_motif.hdf in read-only mode\n",
      "Opening /mnt/vdisk/data/synapse/extended_labels/FOXA2_labels.hdf in read-only mode\n",
      "48.0579001904 s\n"
     ]
    }
   ],
   "source": [
    "start=time.time()\n",
    "\n",
    "# load fold coverage tables for all train cell lines\n",
    "fc_train=[pd.read_hdf(DATA_DIR+'fold_cov_data/'+cl+'_dnase_fold_cov.hdf',\n",
    "                      'dnase_fold_cov')\n",
    "          for cl in TRAIN_CELL_TYPES ]\n",
    "\n",
    "#load fold coverage table for the final submission cell line\n",
    "fc_test=pd.read_hdf(DATA_DIR+'fold_cov_data/'+TEST_CELL_TYPE+'_dnase_fold_cov.hdf',\n",
    "                     'dnase_fold_cov')\n",
    "\n",
    "#load motif table for the transciption factor\n",
    "motif=pd.read_hdf(DATA_DIR+'motif_data/'+TF+'_motif.hdf','motif')\n",
    "          \n",
    "#load labels for the transcription factor\n",
    "labels=pd.read_hdf(DATA_DIR+'extended_labels/'+TF+'_labels.hdf','labels')\n",
    "\n",
    "print (time.time()-start),'s'"
   ]
  },
  {
   "cell_type": "code",
   "execution_count": 5,
   "metadata": {
    "collapsed": false
   },
   "outputs": [
    {
     "name": "stdout",
     "output_type": "stream",
     "text": [
      "25.516919136 s\n"
     ]
    }
   ],
   "source": [
    "start=time.time()\n",
    "\n",
    "# fix index not set before\n",
    "motif.set_index(['chr1','600','800'],inplace=True)\n",
    "\n",
    "print (time.time()-start),'s'"
   ]
  },
  {
   "cell_type": "markdown",
   "metadata": {},
   "source": [
    "### Create train,valid,test data"
   ]
  },
  {
   "cell_type": "code",
   "execution_count": 6,
   "metadata": {
    "collapsed": false
   },
   "outputs": [
    {
     "name": "stdout",
     "output_type": "stream",
     "text": [
      "6.75908899307 s\n"
     ]
    }
   ],
   "source": [
    "start=time.time()\n",
    "\n",
    "# packing columns into the train dataset\n",
    "x_train=[fc_train[0].values,                                #cell line specific fc column\n",
    "         motif.values ] + [                                 #motif scores\n",
    "         x.values for x in fc_train[1:]] + [                #other cell line fc values\n",
    "         labels[tf].values for tf in TRAIN_CELL_TYPES[1:] ] #other cell line labels\n",
    "x_train=np.column_stack(x_train)\n",
    "y_train=labels[TRAIN_CELL_TYPES[0]].values.astype('int')\n",
    "\n",
    "print (time.time()-start),'s'"
   ]
  },
  {
   "cell_type": "markdown",
   "metadata": {},
   "source": [
    "### Train SGD logistic reg\n",
    "- it doesn't seem to use the 12 cores for most of the time"
   ]
  },
  {
   "cell_type": "code",
   "execution_count": 7,
   "metadata": {
    "collapsed": false
   },
   "outputs": [
    {
     "name": "stdout",
     "output_type": "stream",
     "text": [
      "167.779392958 s\n"
     ]
    }
   ],
   "source": [
    "start=time.time()\n",
    "\n",
    "clf = SGDClassifier(loss='log', class_weight='balanced', n_jobs=12)\n",
    "clf.fit(x_train,y_train)\n",
    "\n",
    "print (time.time()-start),'s'"
   ]
  },
  {
   "cell_type": "markdown",
   "metadata": {},
   "source": [
    "### Predict"
   ]
  },
  {
   "cell_type": "code",
   "execution_count": 8,
   "metadata": {
    "collapsed": false
   },
   "outputs": [
    {
     "name": "stdout",
     "output_type": "stream",
     "text": [
      "3.7090780735 s\n"
     ]
    }
   ],
   "source": [
    "start=time.time()\n",
    "\n",
    "x_test=np.array(x_train)\n",
    "x_test[:,0]=fc_test.values.flatten()\n",
    "\n",
    "print (time.time()-start),'s'"
   ]
  },
  {
   "cell_type": "code",
   "execution_count": 9,
   "metadata": {
    "collapsed": false
   },
   "outputs": [
    {
     "name": "stdout",
     "output_type": "stream",
     "text": [
      "3.8049929142 s\n"
     ]
    }
   ],
   "source": [
    "start=time.time()\n",
    "\n",
    "y_test_pred=clf.predict_proba(x_test)[:,1]\n",
    "\n",
    "print (time.time()-start),'s'"
   ]
  },
  {
   "cell_type": "markdown",
   "metadata": {},
   "source": [
    "### Annotate predictions with the test regions\n",
    "- It has to be in the exact order of the test regions\n",
    "    - https://www.synapse.org/#!Synapse:syn6131484/wiki/402044\n",
    "- I missed the very frst line when creating the tables, I just add a 0 there"
   ]
  },
  {
   "cell_type": "code",
   "execution_count": 10,
   "metadata": {
    "collapsed": false
   },
   "outputs": [
    {
     "name": "stdout",
     "output_type": "stream",
     "text": [
      "Opening /mnt/vdisk/data/synapse//annotations/test_regions.hdf in read-only mode\n",
      "1.21383810043 s\n"
     ]
    }
   ],
   "source": [
    "start=time.time()\n",
    "\n",
    "#load index\n",
    "idx=pd.read_hdf(DATA_DIR+'/annotations/test_regions.hdf',\n",
    "                   'test_regions').index\n",
    "\n",
    "print (time.time()-start),'s'"
   ]
  },
  {
   "cell_type": "code",
   "execution_count": 11,
   "metadata": {
    "collapsed": false
   },
   "outputs": [
    {
     "name": "stdout",
     "output_type": "stream",
     "text": [
      "0.283663988113 s\n"
     ]
    }
   ],
   "source": [
    "start=time.time()\n",
    "res_df=pd.DataFrame(np.concatenate([[0],y_test_pred]),index=idx)\n",
    "print (time.time()-start),'s'"
   ]
  },
  {
   "cell_type": "markdown",
   "metadata": {},
   "source": [
    "### The slowest part of the whole process is to write the tsv, so now i just make it in hdf"
   ]
  },
  {
   "cell_type": "code",
   "execution_count": 12,
   "metadata": {
    "collapsed": false
   },
   "outputs": [
    {
     "name": "stdout",
     "output_type": "stream",
     "text": [
      "1.72001600266 s\n"
     ]
    }
   ],
   "source": [
    "start=time.time()\n",
    "\n",
    "#slooooooooooow\n",
    "#res_df.to_csv(\n",
    "#    TF+'_test.h',sep='\\t',header=False,compression='gzip')\n",
    "\n",
    "res_df.to_hdf(TF+'_'+TEST_CELL_TYPE+'_test.hdf','preds')\n",
    "\n",
    "print (time.time()-start),'s'"
   ]
  },
  {
   "cell_type": "markdown",
   "metadata": {},
   "source": [
    "### Join the results using shell commands\n",
    "- Not too elegant but faster"
   ]
  },
  {
   "cell_type": "code",
   "execution_count": 13,
   "metadata": {
    "collapsed": false
   },
   "outputs": [
    {
     "name": "stdout",
     "output_type": "stream",
     "text": [
      "148.453009129 s\n"
     ]
    }
   ],
   "source": [
    "start=time.time()\n",
    "np.savetxt(TF+'_'+TEST_CELL_TYPE+'_test.txt',np.concatenate([[0],y_test_pred]))\n",
    "print (time.time()-start),'s'"
   ]
  },
  {
   "cell_type": "code",
   "execution_count": 14,
   "metadata": {
    "collapsed": false
   },
   "outputs": [
    {
     "name": "stdout",
     "output_type": "stream",
     "text": [
      " paste  <(zcat /mnt/vdisk/data/synapse//annotations/test_regions.blacklistfiltered.bed.gz ) FOXA2_liver_test.txt  | gzip -c -1  > F.FOXA2.liver.tab.gz\n",
      "43.1568770409 s\n"
     ]
    }
   ],
   "source": [
    "start=time.time()\n",
    "\n",
    "cmd = ' paste '\n",
    "cmd+= ' <(zcat '+DATA_DIR+'/annotations/test_regions.blacklistfiltered.bed.gz ) '\n",
    "cmd+= TF+'_'+TEST_CELL_TYPE +'_test.txt '\n",
    "cmd+= ' | gzip -c -1  > '+'F.'+TF+'.'+TEST_CELL_TYPE+'.tab.gz'\n",
    "print cmd\n",
    "subprocess.check_output(cmd,shell=True, executable='/bin/bash')\n",
    "\n",
    "print (time.time()-start),'s'"
   ]
  }
 ],
 "metadata": {
  "kernelspec": {
   "display_name": "Python 2",
   "language": "python",
   "name": "python2"
  },
  "language_info": {
   "codemirror_mode": {
    "name": "ipython",
    "version": 2
   },
   "file_extension": ".py",
   "mimetype": "text/x-python",
   "name": "python",
   "nbconvert_exporter": "python",
   "pygments_lexer": "ipython2",
   "version": "2.7.12"
  }
 },
 "nbformat": 4,
 "nbformat_minor": 0
}
