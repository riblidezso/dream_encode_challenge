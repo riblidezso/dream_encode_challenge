{
 "cells": [
  {
   "cell_type": "markdown",
   "metadata": {},
   "source": [
    "# Example: train ATF2 and make predictions for HepG2\n",
    "\n",
    "\n",
    "----"
   ]
  },
  {
   "cell_type": "code",
   "execution_count": 1,
   "metadata": {
    "collapsed": true
   },
   "outputs": [],
   "source": [
    "import time\n",
    "import pandas as pd\n",
    "import numpy as np\n",
    "from sklearn.metrics import roc_auc_score\n",
    "from sklearn.ensemble import RandomForestClassifier"
   ]
  },
  {
   "cell_type": "code",
   "execution_count": null,
   "metadata": {
    "collapsed": true
   },
   "outputs": [],
   "source": [
    "TF='ATF2'\n",
    "DATA_DIR='/mnt/vdisk/data/synapse/'\n",
    "TRAIN_CELL_TYPES=['GM12878','H1-hESC']\n",
    "VALID_CELL_TYPE='MCF-7'\n",
    "TEST_CELL_TYPE='HepG2'"
   ]
  },
  {
   "cell_type": "markdown",
   "metadata": {},
   "source": [
    "### Load data"
   ]
  },
  {
   "cell_type": "code",
   "execution_count": 2,
   "metadata": {
    "collapsed": false
   },
   "outputs": [
    {
     "name": "stdout",
     "output_type": "stream",
     "text": [
      "Opening /mnt/vdisk/data/synapse/fold_cov_data/GM12878_dnase_fold_cov.hdf in read-only mode\n",
      "Opening /mnt/vdisk/data/synapse/fold_cov_data/H1-hESC_dnase_fold_cov.hdf in read-only mode\n",
      "Opening /mnt/vdisk/data/synapse/fold_cov_data/MCF-7_dnase_fold_cov.hdf in read-only mode\n",
      "Opening /mnt/vdisk/data/synapse/fold_cov_data/HepG2_dnase_fold_cov.hdf in read-only mode\n",
      "Opening /mnt/vdisk/data/synapse/motif_data/ATF2_motif.hdf in read-only mode\n",
      "Opening /mnt/vdisk/data/synapse/extended_labels/ATF2_labels.hdf in read-only mode\n"
     ]
    }
   ],
   "source": [
    "fc_train=[pd.read_hdf(DATA_DIR+'fold_cov_data/'+cl+'_dnase_fold_cov.hdf',\n",
    "                      'dnase_fold_cov',index_col=(0,1,2))\n",
    "          for cl in TRAIN_CELL_TYPES ]\n",
    "fc_valid=pd.read_hdf(DATA_DIR+'fold_cov_data/'+VALID_CELL_TYPE+'_dnase_fold_cov.hdf',\n",
    "                     'dnase_fold_cov',index_col=(0,1,2))\n",
    "fc_test=pd.read_hdf(DATA_DIR+'fold_cov_data/'+TEST_CELL_TYPE+'_dnase_fold_cov.hdf',\n",
    "                     'dnase_fold_cov',index_col=(0,1,2))\n",
    "\n",
    "motif=pd.read_hdf(DATA_DIR+'motif_data/'+TF+'_motif.hdf','motif',index_col=(0,1,2))\n",
    "          \n",
    "labels=pd.read_hdf(DATA_DIR+'extended_labels/'+TF+'_labels.hdf','labels')"
   ]
  },
  {
   "cell_type": "markdown",
   "metadata": {},
   "source": [
    "### Create train,valid,test data"
   ]
  },
  {
   "cell_type": "code",
   "execution_count": 7,
   "metadata": {
    "collapsed": false
   },
   "outputs": [
    {
     "name": "stdout",
     "output_type": "stream",
     "text": [
      "4 min\n"
     ]
    }
   ],
   "source": [
    "# packing columns into the train dataset takes some time\n",
    "# valid and test much faster\n",
    "start=time.time()\n",
    "\n",
    "x_train=[fc_train[0].values, #cell line specific column\n",
    "         motif.values[:,3:] ] + [ #motif scores\n",
    "         x.values for x in fc_train[1:]] + [ #other cell line fc values\n",
    "         labels[tf].values for tf in TRAIN_CELL_TYPES[1:] ] #other cell line labels\n",
    "x_train=np.column_stack(x_train)\n",
    "y_train=labels[TRAIN_CELL_TYPES[0]].values\n",
    "\n",
    "print int((time.time()-start)/60),'min'"
   ]
  },
  {
   "cell_type": "code",
   "execution_count": 10,
   "metadata": {
    "collapsed": true
   },
   "outputs": [],
   "source": [
    "x_valid=np.array(x_train)\n",
    "x_valid[:,0]=fc_valid.values.flatten()\n",
    "y_valid=labels[VALID_CELL_TYPE].values"
   ]
  },
  {
   "cell_type": "code",
   "execution_count": null,
   "metadata": {
    "collapsed": true
   },
   "outputs": [],
   "source": [
    "x_test=np.array(x_train)\n",
    "x_test[:,0]=fc_test.values\n",
    "y_test=labels[TEST_CELL_TYPE].values"
   ]
  },
  {
   "cell_type": "markdown",
   "metadata": {},
   "source": [
    "### Train\n",
    "\n",
    "- it crashed, probably 60 million data points is too much for rfc"
   ]
  },
  {
   "cell_type": "code",
   "execution_count": null,
   "metadata": {
    "collapsed": false
   },
   "outputs": [],
   "source": [
    "start=time.time()\n",
    "\n",
    "clf=RandomForestClassifier(n_estimators=5,n_jobs=12)\n",
    "clf.fit(x_train,y_train)\n",
    "\n",
    "print (time.time()-start),'s'"
   ]
  },
  {
   "cell_type": "markdown",
   "metadata": {},
   "source": [
    "### Evaluate"
   ]
  },
  {
   "cell_type": "code",
   "execution_count": null,
   "metadata": {
    "collapsed": false
   },
   "outputs": [],
   "source": [
    "start=time.time()\n",
    "\n",
    "print 'auc:',roc_auc_score(y_valid[-N:],clf.predict_proba(x_valid[-N:])[:,1])\n",
    "\n",
    "print (time.time()-start),'s'"
   ]
  },
  {
   "cell_type": "markdown",
   "metadata": {},
   "source": [
    "### Predict"
   ]
  },
  {
   "cell_type": "code",
   "execution_count": null,
   "metadata": {
    "collapsed": true
   },
   "outputs": [],
   "source": [
    "start=time.time()\n",
    "\n",
    "y_test_pred=clf.predict_proba(x_valid[-N:])[:,1]\n",
    "\n",
    "print (time.time()-start),'s'"
   ]
  }
 ],
 "metadata": {
  "kernelspec": {
   "display_name": "Python 2",
   "language": "python",
   "name": "python2"
  },
  "language_info": {
   "codemirror_mode": {
    "name": "ipython",
    "version": 2
   },
   "file_extension": ".py",
   "mimetype": "text/x-python",
   "name": "python",
   "nbconvert_exporter": "python",
   "pygments_lexer": "ipython2",
   "version": "2.7.12"
  }
 },
 "nbformat": 4,
 "nbformat_minor": 0
}
